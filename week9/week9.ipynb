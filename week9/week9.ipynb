{
 "cells": [
  {
   "cell_type": "code",
   "execution_count": 1,
   "metadata": {
    "collapsed": false
   },
   "outputs": [],
   "source": [
    "import numpy as np\n",
    "import pandas as pd\n",
    "import matplotlib.pyplot as plt\n",
    "import os\n",
    "import plotly\n",
    "import plotly.plotly as py\n",
    "import plotly.graph_objs as go\n",
    "from plotly.tools import FigureFactory as FF\n",
    "\n",
    "import statsmodels\n",
    "import statsmodels.api as sm\n",
    "from statsmodels.formula.api import ols"
   ]
  },
  {
   "cell_type": "code",
   "execution_count": 7,
   "metadata": {
    "collapsed": false
   },
   "outputs": [
    {
     "data": {
      "text/plain": [
       "['.DS_Store',\n",
       " '.ipynb_checkpoints',\n",
       " 'AQXDaily_20170409211519.csv',\n",
       " 'teacher.csv',\n",
       " 'TIMSS2011TW.csv',\n",
       " 'TIMSS2011TW.txt',\n",
       " 'week9.ipynb']"
      ]
     },
     "execution_count": 7,
     "metadata": {},
     "output_type": "execute_result"
    }
   ],
   "source": [
    "os.listdir()"
   ]
  },
  {
   "cell_type": "code",
   "execution_count": 8,
   "metadata": {
    "collapsed": false
   },
   "outputs": [],
   "source": [
    "TIMSS = pd.read_csv('TIMSS2011TW.csv')"
   ]
  },
  {
   "cell_type": "code",
   "execution_count": 9,
   "metadata": {
    "collapsed": false
   },
   "outputs": [
    {
     "data": {
      "text/plain": [
       "Index(['gender', 'math', 'math interest', 'math evaluation', 'math input',\n",
       "       'math hours', 'science', 'science interest', 'science evaluation',\n",
       "       'science input', 'science hours', 'parental education',\n",
       "       'educational resources'],\n",
       "      dtype='object')"
      ]
     },
     "execution_count": 9,
     "metadata": {},
     "output_type": "execute_result"
    }
   ],
   "source": [
    "TIMSS.columns"
   ]
  },
  {
   "cell_type": "code",
   "execution_count": 10,
   "metadata": {
    "collapsed": false
   },
   "outputs": [
    {
     "name": "stdout",
     "output_type": "stream",
     "text": [
      "['45min - 3hours', '<= 45min', '>= 3hours']\n",
      "['high school', 'elementary school', 'junior high school', 'university above', 'college']\n",
      "['girl', 'boy']\n"
     ]
    }
   ],
   "source": [
    "print(TIMSS['math hours'].unique().tolist())\n",
    "print(TIMSS['parental education'].unique().tolist())\n",
    "print(TIMSS['gender'].unique().tolist())"
   ]
  },
  {
   "cell_type": "code",
   "execution_count": 11,
   "metadata": {
    "collapsed": false
   },
   "outputs": [],
   "source": [
    "def pe2n(x):\n",
    "    if x=='high school':\n",
    "        return 2\n",
    "    elif x=='elementary school':\n",
    "        return 0\n",
    "    elif x=='junior high school':\n",
    "        return 1\n",
    "    elif x == 'university above':\n",
    "        return 4\n",
    "    return 3\n",
    "\n",
    "def mh2n(x):\n",
    "    if x == '45min - 3hours':\n",
    "        return 1\n",
    "    elif x == '<= 45min':\n",
    "        return 0\n",
    "    return 2\n",
    "\n",
    "TIMSS['gender_n'] = TIMSS['gender'].apply(lambda x: 0 if x=='girl' else 1)\n",
    "TIMSS['math_hours_n'] = TIMSS['math hours'].apply(mh2n)\n",
    "TIMSS['parental_education_n'] = TIMSS['parental education'].apply(pe2n)"
   ]
  },
  {
   "cell_type": "code",
   "execution_count": 12,
   "metadata": {
    "collapsed": false
   },
   "outputs": [],
   "source": [
    "drop_col = ['gender', 'math hours', 'parental education']\n",
    "TIMSS = TIMSS.drop(drop_col, axis=1)"
   ]
  },
  {
   "cell_type": "code",
   "execution_count": 15,
   "metadata": {
    "collapsed": false
   },
   "outputs": [
    {
     "data": {
      "text/html": [
       "<div>\n",
       "<table border=\"1\" class=\"dataframe\">\n",
       "  <thead>\n",
       "    <tr style=\"text-align: right;\">\n",
       "      <th></th>\n",
       "      <th>math</th>\n",
       "      <th>math interest</th>\n",
       "      <th>math evaluation</th>\n",
       "      <th>math input</th>\n",
       "      <th>science</th>\n",
       "      <th>science interest</th>\n",
       "      <th>science evaluation</th>\n",
       "      <th>science input</th>\n",
       "      <th>educational resources</th>\n",
       "      <th>gender_n</th>\n",
       "      <th>math_hours_n</th>\n",
       "      <th>parental_education_n</th>\n",
       "    </tr>\n",
       "  </thead>\n",
       "  <tbody>\n",
       "    <tr>\n",
       "      <th>count</th>\n",
       "      <td>4467.000000</td>\n",
       "      <td>4467.000000</td>\n",
       "      <td>4467.000000</td>\n",
       "      <td>4467.000000</td>\n",
       "      <td>4467.000000</td>\n",
       "      <td>4467.000000</td>\n",
       "      <td>4467.000000</td>\n",
       "      <td>4467.000000</td>\n",
       "      <td>4467.000000</td>\n",
       "      <td>4467.000000</td>\n",
       "      <td>4467.000000</td>\n",
       "      <td>4467.000000</td>\n",
       "    </tr>\n",
       "    <tr>\n",
       "      <th>mean</th>\n",
       "      <td>618.058149</td>\n",
       "      <td>9.079051</td>\n",
       "      <td>8.356993</td>\n",
       "      <td>8.583309</td>\n",
       "      <td>570.648302</td>\n",
       "      <td>9.010321</td>\n",
       "      <td>8.555938</td>\n",
       "      <td>8.612774</td>\n",
       "      <td>10.485743</td>\n",
       "      <td>0.498097</td>\n",
       "      <td>0.815312</td>\n",
       "      <td>2.573315</td>\n",
       "    </tr>\n",
       "    <tr>\n",
       "      <th>std</th>\n",
       "      <td>100.806065</td>\n",
       "      <td>2.097140</td>\n",
       "      <td>1.842166</td>\n",
       "      <td>1.704199</td>\n",
       "      <td>80.461952</td>\n",
       "      <td>1.946846</td>\n",
       "      <td>1.830987</td>\n",
       "      <td>1.771664</td>\n",
       "      <td>1.663549</td>\n",
       "      <td>0.500052</td>\n",
       "      <td>0.714295</td>\n",
       "      <td>1.053085</td>\n",
       "    </tr>\n",
       "    <tr>\n",
       "      <th>min</th>\n",
       "      <td>166.417270</td>\n",
       "      <td>5.037480</td>\n",
       "      <td>3.412330</td>\n",
       "      <td>3.265150</td>\n",
       "      <td>178.841560</td>\n",
       "      <td>4.512740</td>\n",
       "      <td>4.136350</td>\n",
       "      <td>3.556090</td>\n",
       "      <td>4.323030</td>\n",
       "      <td>0.000000</td>\n",
       "      <td>0.000000</td>\n",
       "      <td>0.000000</td>\n",
       "    </tr>\n",
       "    <tr>\n",
       "      <th>25%</th>\n",
       "      <td>555.957835</td>\n",
       "      <td>7.911860</td>\n",
       "      <td>7.274100</td>\n",
       "      <td>7.857360</td>\n",
       "      <td>517.937180</td>\n",
       "      <td>7.988970</td>\n",
       "      <td>7.601290</td>\n",
       "      <td>7.523840</td>\n",
       "      <td>9.600970</td>\n",
       "      <td>0.000000</td>\n",
       "      <td>0.000000</td>\n",
       "      <td>2.000000</td>\n",
       "    </tr>\n",
       "    <tr>\n",
       "      <th>50%</th>\n",
       "      <td>629.882450</td>\n",
       "      <td>8.930410</td>\n",
       "      <td>8.206730</td>\n",
       "      <td>8.583670</td>\n",
       "      <td>577.502690</td>\n",
       "      <td>9.038930</td>\n",
       "      <td>8.540230</td>\n",
       "      <td>8.699540</td>\n",
       "      <td>10.253960</td>\n",
       "      <td>0.000000</td>\n",
       "      <td>1.000000</td>\n",
       "      <td>2.000000</td>\n",
       "    </tr>\n",
       "    <tr>\n",
       "      <th>75%</th>\n",
       "      <td>687.584250</td>\n",
       "      <td>9.965000</td>\n",
       "      <td>9.344390</td>\n",
       "      <td>9.634600</td>\n",
       "      <td>627.216690</td>\n",
       "      <td>9.827430</td>\n",
       "      <td>9.479210</td>\n",
       "      <td>9.548970</td>\n",
       "      <td>11.649170</td>\n",
       "      <td>1.000000</td>\n",
       "      <td>1.000000</td>\n",
       "      <td>4.000000</td>\n",
       "    </tr>\n",
       "    <tr>\n",
       "      <th>max</th>\n",
       "      <td>918.096550</td>\n",
       "      <td>13.465070</td>\n",
       "      <td>13.707420</td>\n",
       "      <td>14.342980</td>\n",
       "      <td>844.346620</td>\n",
       "      <td>12.943700</td>\n",
       "      <td>13.103230</td>\n",
       "      <td>13.833450</td>\n",
       "      <td>14.018270</td>\n",
       "      <td>1.000000</td>\n",
       "      <td>2.000000</td>\n",
       "      <td>4.000000</td>\n",
       "    </tr>\n",
       "  </tbody>\n",
       "</table>\n",
       "</div>"
      ],
      "text/plain": [
       "              math  math interest  math evaluation   math input      science  \\\n",
       "count  4467.000000    4467.000000      4467.000000  4467.000000  4467.000000   \n",
       "mean    618.058149       9.079051         8.356993     8.583309   570.648302   \n",
       "std     100.806065       2.097140         1.842166     1.704199    80.461952   \n",
       "min     166.417270       5.037480         3.412330     3.265150   178.841560   \n",
       "25%     555.957835       7.911860         7.274100     7.857360   517.937180   \n",
       "50%     629.882450       8.930410         8.206730     8.583670   577.502690   \n",
       "75%     687.584250       9.965000         9.344390     9.634600   627.216690   \n",
       "max     918.096550      13.465070        13.707420    14.342980   844.346620   \n",
       "\n",
       "       science interest  science evaluation  science input  \\\n",
       "count       4467.000000         4467.000000    4467.000000   \n",
       "mean           9.010321            8.555938       8.612774   \n",
       "std            1.946846            1.830987       1.771664   \n",
       "min            4.512740            4.136350       3.556090   \n",
       "25%            7.988970            7.601290       7.523840   \n",
       "50%            9.038930            8.540230       8.699540   \n",
       "75%            9.827430            9.479210       9.548970   \n",
       "max           12.943700           13.103230      13.833450   \n",
       "\n",
       "       educational resources     gender_n  math_hours_n  parental_education_n  \n",
       "count            4467.000000  4467.000000   4467.000000           4467.000000  \n",
       "mean               10.485743     0.498097      0.815312              2.573315  \n",
       "std                 1.663549     0.500052      0.714295              1.053085  \n",
       "min                 4.323030     0.000000      0.000000              0.000000  \n",
       "25%                 9.600970     0.000000      0.000000              2.000000  \n",
       "50%                10.253960     0.000000      1.000000              2.000000  \n",
       "75%                11.649170     1.000000      1.000000              4.000000  \n",
       "max                14.018270     1.000000      2.000000              4.000000  "
      ]
     },
     "execution_count": 15,
     "metadata": {},
     "output_type": "execute_result"
    }
   ],
   "source": [
    "TIMSS.describe()"
   ]
  },
  {
   "cell_type": "code",
   "execution_count": 22,
   "metadata": {
    "collapsed": false
   },
   "outputs": [
    {
     "data": {
      "text/html": [
       "<div>\n",
       "<table border=\"1\" class=\"dataframe\">\n",
       "  <thead>\n",
       "    <tr style=\"text-align: right;\">\n",
       "      <th></th>\n",
       "      <th>math</th>\n",
       "      <th>math interest</th>\n",
       "      <th>math evaluation</th>\n",
       "      <th>math input</th>\n",
       "      <th>science</th>\n",
       "      <th>science interest</th>\n",
       "      <th>science evaluation</th>\n",
       "      <th>science input</th>\n",
       "      <th>educational resources</th>\n",
       "      <th>gender_n</th>\n",
       "      <th>math_hours_n</th>\n",
       "      <th>parental_education_n</th>\n",
       "    </tr>\n",
       "  </thead>\n",
       "  <tbody>\n",
       "    <tr>\n",
       "      <th>math</th>\n",
       "      <td>1.000000</td>\n",
       "      <td>0.461064</td>\n",
       "      <td>0.373753</td>\n",
       "      <td>0.350912</td>\n",
       "      <td>0.863023</td>\n",
       "      <td>0.247039</td>\n",
       "      <td>0.283188</td>\n",
       "      <td>0.200126</td>\n",
       "      <td>0.414555</td>\n",
       "      <td>-0.014660</td>\n",
       "      <td>0.131492</td>\n",
       "      <td>0.347197</td>\n",
       "    </tr>\n",
       "    <tr>\n",
       "      <th>math interest</th>\n",
       "      <td>0.461064</td>\n",
       "      <td>1.000000</td>\n",
       "      <td>0.629496</td>\n",
       "      <td>0.671913</td>\n",
       "      <td>0.358865</td>\n",
       "      <td>0.378865</td>\n",
       "      <td>0.345587</td>\n",
       "      <td>0.302654</td>\n",
       "      <td>0.167485</td>\n",
       "      <td>0.113029</td>\n",
       "      <td>0.016780</td>\n",
       "      <td>0.113623</td>\n",
       "    </tr>\n",
       "    <tr>\n",
       "      <th>math evaluation</th>\n",
       "      <td>0.373753</td>\n",
       "      <td>0.629496</td>\n",
       "      <td>1.000000</td>\n",
       "      <td>0.546522</td>\n",
       "      <td>0.346673</td>\n",
       "      <td>0.349952</td>\n",
       "      <td>0.588921</td>\n",
       "      <td>0.329680</td>\n",
       "      <td>0.189841</td>\n",
       "      <td>0.072204</td>\n",
       "      <td>0.056263</td>\n",
       "      <td>0.145993</td>\n",
       "    </tr>\n",
       "    <tr>\n",
       "      <th>math input</th>\n",
       "      <td>0.350912</td>\n",
       "      <td>0.671913</td>\n",
       "      <td>0.546522</td>\n",
       "      <td>1.000000</td>\n",
       "      <td>0.274952</td>\n",
       "      <td>0.320806</td>\n",
       "      <td>0.343808</td>\n",
       "      <td>0.429807</td>\n",
       "      <td>0.162427</td>\n",
       "      <td>0.050793</td>\n",
       "      <td>0.058675</td>\n",
       "      <td>0.102443</td>\n",
       "    </tr>\n",
       "    <tr>\n",
       "      <th>science</th>\n",
       "      <td>0.863023</td>\n",
       "      <td>0.358865</td>\n",
       "      <td>0.346673</td>\n",
       "      <td>0.274952</td>\n",
       "      <td>1.000000</td>\n",
       "      <td>0.383184</td>\n",
       "      <td>0.390615</td>\n",
       "      <td>0.296798</td>\n",
       "      <td>0.445234</td>\n",
       "      <td>0.015167</td>\n",
       "      <td>0.119706</td>\n",
       "      <td>0.367184</td>\n",
       "    </tr>\n",
       "    <tr>\n",
       "      <th>science interest</th>\n",
       "      <td>0.247039</td>\n",
       "      <td>0.378865</td>\n",
       "      <td>0.349952</td>\n",
       "      <td>0.320806</td>\n",
       "      <td>0.383184</td>\n",
       "      <td>1.000000</td>\n",
       "      <td>0.675433</td>\n",
       "      <td>0.708953</td>\n",
       "      <td>0.204482</td>\n",
       "      <td>0.193588</td>\n",
       "      <td>0.058535</td>\n",
       "      <td>0.145578</td>\n",
       "    </tr>\n",
       "    <tr>\n",
       "      <th>science evaluation</th>\n",
       "      <td>0.283188</td>\n",
       "      <td>0.345587</td>\n",
       "      <td>0.588921</td>\n",
       "      <td>0.343808</td>\n",
       "      <td>0.390615</td>\n",
       "      <td>0.675433</td>\n",
       "      <td>1.000000</td>\n",
       "      <td>0.618487</td>\n",
       "      <td>0.240344</td>\n",
       "      <td>0.116095</td>\n",
       "      <td>0.099069</td>\n",
       "      <td>0.188741</td>\n",
       "    </tr>\n",
       "    <tr>\n",
       "      <th>science input</th>\n",
       "      <td>0.200126</td>\n",
       "      <td>0.302654</td>\n",
       "      <td>0.329680</td>\n",
       "      <td>0.429807</td>\n",
       "      <td>0.296798</td>\n",
       "      <td>0.708953</td>\n",
       "      <td>0.618487</td>\n",
       "      <td>1.000000</td>\n",
       "      <td>0.185001</td>\n",
       "      <td>0.108467</td>\n",
       "      <td>0.077003</td>\n",
       "      <td>0.119065</td>\n",
       "    </tr>\n",
       "    <tr>\n",
       "      <th>educational resources</th>\n",
       "      <td>0.414555</td>\n",
       "      <td>0.167485</td>\n",
       "      <td>0.189841</td>\n",
       "      <td>0.162427</td>\n",
       "      <td>0.445234</td>\n",
       "      <td>0.204482</td>\n",
       "      <td>0.240344</td>\n",
       "      <td>0.185001</td>\n",
       "      <td>1.000000</td>\n",
       "      <td>0.000643</td>\n",
       "      <td>0.123279</td>\n",
       "      <td>0.770566</td>\n",
       "    </tr>\n",
       "    <tr>\n",
       "      <th>gender_n</th>\n",
       "      <td>-0.014660</td>\n",
       "      <td>0.113029</td>\n",
       "      <td>0.072204</td>\n",
       "      <td>0.050793</td>\n",
       "      <td>0.015167</td>\n",
       "      <td>0.193588</td>\n",
       "      <td>0.116095</td>\n",
       "      <td>0.108467</td>\n",
       "      <td>0.000643</td>\n",
       "      <td>1.000000</td>\n",
       "      <td>-0.102226</td>\n",
       "      <td>0.008663</td>\n",
       "    </tr>\n",
       "    <tr>\n",
       "      <th>math_hours_n</th>\n",
       "      <td>0.131492</td>\n",
       "      <td>0.016780</td>\n",
       "      <td>0.056263</td>\n",
       "      <td>0.058675</td>\n",
       "      <td>0.119706</td>\n",
       "      <td>0.058535</td>\n",
       "      <td>0.099069</td>\n",
       "      <td>0.077003</td>\n",
       "      <td>0.123279</td>\n",
       "      <td>-0.102226</td>\n",
       "      <td>1.000000</td>\n",
       "      <td>0.087512</td>\n",
       "    </tr>\n",
       "    <tr>\n",
       "      <th>parental_education_n</th>\n",
       "      <td>0.347197</td>\n",
       "      <td>0.113623</td>\n",
       "      <td>0.145993</td>\n",
       "      <td>0.102443</td>\n",
       "      <td>0.367184</td>\n",
       "      <td>0.145578</td>\n",
       "      <td>0.188741</td>\n",
       "      <td>0.119065</td>\n",
       "      <td>0.770566</td>\n",
       "      <td>0.008663</td>\n",
       "      <td>0.087512</td>\n",
       "      <td>1.000000</td>\n",
       "    </tr>\n",
       "  </tbody>\n",
       "</table>\n",
       "</div>"
      ],
      "text/plain": [
       "                           math  math interest  math evaluation  math input  \\\n",
       "math                   1.000000       0.461064         0.373753    0.350912   \n",
       "math interest          0.461064       1.000000         0.629496    0.671913   \n",
       "math evaluation        0.373753       0.629496         1.000000    0.546522   \n",
       "math input             0.350912       0.671913         0.546522    1.000000   \n",
       "science                0.863023       0.358865         0.346673    0.274952   \n",
       "science interest       0.247039       0.378865         0.349952    0.320806   \n",
       "science evaluation     0.283188       0.345587         0.588921    0.343808   \n",
       "science input          0.200126       0.302654         0.329680    0.429807   \n",
       "educational resources  0.414555       0.167485         0.189841    0.162427   \n",
       "gender_n              -0.014660       0.113029         0.072204    0.050793   \n",
       "math_hours_n           0.131492       0.016780         0.056263    0.058675   \n",
       "parental_education_n   0.347197       0.113623         0.145993    0.102443   \n",
       "\n",
       "                        science  science interest  science evaluation  \\\n",
       "math                   0.863023          0.247039            0.283188   \n",
       "math interest          0.358865          0.378865            0.345587   \n",
       "math evaluation        0.346673          0.349952            0.588921   \n",
       "math input             0.274952          0.320806            0.343808   \n",
       "science                1.000000          0.383184            0.390615   \n",
       "science interest       0.383184          1.000000            0.675433   \n",
       "science evaluation     0.390615          0.675433            1.000000   \n",
       "science input          0.296798          0.708953            0.618487   \n",
       "educational resources  0.445234          0.204482            0.240344   \n",
       "gender_n               0.015167          0.193588            0.116095   \n",
       "math_hours_n           0.119706          0.058535            0.099069   \n",
       "parental_education_n   0.367184          0.145578            0.188741   \n",
       "\n",
       "                       science input  educational resources  gender_n  \\\n",
       "math                        0.200126               0.414555 -0.014660   \n",
       "math interest               0.302654               0.167485  0.113029   \n",
       "math evaluation             0.329680               0.189841  0.072204   \n",
       "math input                  0.429807               0.162427  0.050793   \n",
       "science                     0.296798               0.445234  0.015167   \n",
       "science interest            0.708953               0.204482  0.193588   \n",
       "science evaluation          0.618487               0.240344  0.116095   \n",
       "science input               1.000000               0.185001  0.108467   \n",
       "educational resources       0.185001               1.000000  0.000643   \n",
       "gender_n                    0.108467               0.000643  1.000000   \n",
       "math_hours_n                0.077003               0.123279 -0.102226   \n",
       "parental_education_n        0.119065               0.770566  0.008663   \n",
       "\n",
       "                       math_hours_n  parental_education_n  \n",
       "math                       0.131492              0.347197  \n",
       "math interest              0.016780              0.113623  \n",
       "math evaluation            0.056263              0.145993  \n",
       "math input                 0.058675              0.102443  \n",
       "science                    0.119706              0.367184  \n",
       "science interest           0.058535              0.145578  \n",
       "science evaluation         0.099069              0.188741  \n",
       "science input              0.077003              0.119065  \n",
       "educational resources      0.123279              0.770566  \n",
       "gender_n                  -0.102226              0.008663  \n",
       "math_hours_n               1.000000              0.087512  \n",
       "parental_education_n       0.087512              1.000000  "
      ]
     },
     "execution_count": 22,
     "metadata": {},
     "output_type": "execute_result"
    }
   ],
   "source": [
    "TIMSS_corr = TIMSS.corr()\n",
    "TIMSS_corr"
   ]
  },
  {
   "cell_type": "markdown",
   "metadata": {},
   "source": [
    "## 可見math,  math_hours_n與性別是負相關的。\n",
    "## 由於我設girl=0, boy=1，數值上的小->大是女->男\n",
    "## math hour 由小到大\n",
    "## 負相關即表明是男生的math hour, 比女生少\n",
    "## 但由於數值都十分的小，接近0  --> 其實沒有很相關"
   ]
  },
  {
   "cell_type": "code",
   "execution_count": 31,
   "metadata": {
    "collapsed": false
   },
   "outputs": [
    {
     "data": {
      "text/plain": [
       "science                  0.863023\n",
       "math interest            0.461064\n",
       "educational resources    0.414555\n",
       "math evaluation          0.373753\n",
       "math input               0.350912\n",
       "parental_education_n     0.347197\n",
       "science evaluation       0.283188\n",
       "science interest         0.247039\n",
       "science input            0.200126\n",
       "math_hours_n             0.131492\n",
       "gender_n                -0.014660\n",
       "Name: math, dtype: float64"
      ]
     },
     "execution_count": 31,
     "metadata": {},
     "output_type": "execute_result"
    }
   ],
   "source": [
    "TIMSS_corr['math'].drop(['math'], axis=0).sort_values(ascending=False)"
   ]
  },
  {
   "cell_type": "code",
   "execution_count": 32,
   "metadata": {
    "collapsed": false
   },
   "outputs": [
    {
     "data": {
      "text/plain": [
       "math                     0.863023\n",
       "educational resources    0.445234\n",
       "science evaluation       0.390615\n",
       "science interest         0.383184\n",
       "parental_education_n     0.367184\n",
       "math interest            0.358865\n",
       "math evaluation          0.346673\n",
       "science input            0.296798\n",
       "math input               0.274952\n",
       "math_hours_n             0.119706\n",
       "gender_n                 0.015167\n",
       "Name: science, dtype: float64"
      ]
     },
     "execution_count": 32,
     "metadata": {},
     "output_type": "execute_result"
    }
   ],
   "source": [
    "TIMSS_corr['science'].drop(['science'], axis=0).sort_values(ascending=False)"
   ]
  },
  {
   "cell_type": "code",
   "execution_count": 35,
   "metadata": {
    "collapsed": false
   },
   "outputs": [
    {
     "data": {
      "text/plain": [
       "educational resources    0.770566\n",
       "science                  0.367184\n",
       "math                     0.347197\n",
       "science evaluation       0.188741\n",
       "math evaluation          0.145993\n",
       "science interest         0.145578\n",
       "science input            0.119065\n",
       "math interest            0.113623\n",
       "math input               0.102443\n",
       "math_hours_n             0.087512\n",
       "gender_n                 0.008663\n",
       "Name: parental_education_n, dtype: float64"
      ]
     },
     "execution_count": 35,
     "metadata": {},
     "output_type": "execute_result"
    }
   ],
   "source": [
    "TIMSS_corr['parental_education_n'].drop(['parental_education_n'], axis=0).sort_values(ascending=False)"
   ]
  },
  {
   "cell_type": "markdown",
   "metadata": {},
   "source": [
    "## 可見父母的教育程度跟資源十分有正相關性。\n",
    "## 所以可以側面推測出在之前有讀書到一定程度的人都會有能力／肯給資源孩子去學習"
   ]
  },
  {
   "cell_type": "code",
   "execution_count": null,
   "metadata": {
    "collapsed": true
   },
   "outputs": [],
   "source": []
  },
  {
   "cell_type": "code",
   "execution_count": 36,
   "metadata": {
    "collapsed": false
   },
   "outputs": [
    {
     "data": {
      "application/vnd.plotly.v1+json": {
       "data": [
        {
         "boxmean": "sd",
         "name": "math",
         "type": "box",
         "x": [
          1,
          0.461064484995228,
          0.3737526542366828,
          0.3509122375390688,
          0.8630231354301314,
          0.24703907616676185,
          0.28318784819221426,
          0.2001263811204576,
          0.4145552215219798,
          -0.01465989713326401,
          0.13149214182608981,
          0.3471965908634689
         ]
        },
        {
         "boxmean": "sd",
         "name": "science",
         "type": "box",
         "x": [
          0.8630231354301314,
          0.3588650587757661,
          0.3466725445208475,
          0.2749516886542345,
          1,
          0.38318415921937,
          0.39061508002056594,
          0.29679783663146625,
          0.44523391466213036,
          0.015167223434003334,
          0.11970621323167686,
          0.3671844146719065
         ]
        },
        {
         "boxmean": "sd",
         "name": "edu resources",
         "type": "box",
         "x": [
          0.4145552215219798,
          0.16748483788658886,
          0.18984138484100058,
          0.1624269178192949,
          0.44523391466213036,
          0.20448169449096645,
          0.24034368598207198,
          0.18500051115989424,
          1,
          0.0006434755478433109,
          0.12327872675877423,
          0.7705659626389675
         ]
        }
       ],
       "layout": {}
      }
     },
     "metadata": {},
     "output_type": "display_data"
    }
   ],
   "source": [
    "x0 = TIMSS_corr['math'].as_matrix()\n",
    "x1 = TIMSS_corr['science'].as_matrix()\n",
    "x2 = TIMSS_corr['educational resources'].as_matrix()\n",
    "\n",
    "trace0 = go.Box(x=x0,\n",
    "               name='math',\n",
    "               boxmean='sd')\n",
    "trace1 = go.Box(x=x1,\n",
    "               name='science',\n",
    "               boxmean='sd')\n",
    "trace2 = go.Box(x=x2,\n",
    "               name='edu resources',\n",
    "               boxmean='sd')\n",
    "data = [trace0, trace1,trace2]\n",
    "plotly.offline.iplot(data)"
   ]
  },
  {
   "cell_type": "code",
   "execution_count": 75,
   "metadata": {
    "collapsed": false
   },
   "outputs": [
    {
     "name": "stdout",
     "output_type": "stream",
     "text": [
      "25.121 x +354.65\n"
     ]
    },
    {
     "data": {
      "image/png": "[encoded data removed]",
      "text/plain": [
       "<matplotlib.figure.Figure at 0x11c64fd68>"
      ]
     },
     "metadata": {},
     "output_type": "display_data"
    }
   ],
   "source": [
    "x = TIMSS['educational resources'].as_matrix()\n",
    "y = TIMSS['math'].as_matrix()\n",
    "fig, ax = plt.subplots()\n",
    "fit = np.polyfit(x, y, deg=1)\n",
    "print('%.3f' % fit[0]+' x +'+'%.2f' % fit[1])\n",
    "ax.plot(x, fit[0] * x + fit[1], color='red')\n",
    "ax.scatter(x, y)\n",
    "plt.show()"
   ]
  },
  {
   "cell_type": "code",
   "execution_count": 74,
   "metadata": {
    "collapsed": false
   },
   "outputs": [
    {
     "name": "stdout",
     "output_type": "stream",
     "text": [
      " -4.48018052308* x^3 + 27.1209357453* x^2 + -6.54621588138* x^1 + 540.147085579* x^0\n"
     ]
    },
    {
     "name": "stderr",
     "output_type": "stream",
     "text": [
      "//anaconda/lib/python3.6/site-packages/ipykernel/__main__.py:14: MatplotlibDeprecationWarning:\n",
      "\n",
      "axes.hold is deprecated.\n",
      "    See the API Changes document (http://matplotlib.org/api/api_changes.html)\n",
      "    for more details.\n",
      "\n"
     ]
    },
    {
     "data": {
      "image/png": "[encoded data removed]",
      "text/plain": [
       "<matplotlib.figure.Figure at 0x11cb08048>"
      ]
     },
     "metadata": {},
     "output_type": "display_data"
    }
   ],
   "source": [
    "x = TIMSS['parental_education_n'].as_matrix()\n",
    "y = TIMSS['math'].as_matrix()\n",
    "fig, ax = plt.subplots()\n",
    "deg = 3\n",
    "fit = np.polyfit(x, y, deg=deg)\n",
    "output_str = ' '\n",
    "for d in range(deg+1):\n",
    "    output_str += str(fit[d]) +'* x^'+str(deg-d) +' + '\n",
    "#print('%.3f' % fit[0]+' x +'+'%.2f' % fit[1])\n",
    "print(output_str[:-3])\n",
    "\n",
    "#ax.plot(x, fit[0] * x + fit[1], color='red')\n",
    "ax.hold(True)\n",
    "ax.scatter(x, y)\n",
    "ax.scatter(x, np.polyval(fit, x), color='red')\n",
    "\n",
    "plt.show()"
   ]
  },
  {
   "cell_type": "code",
   "execution_count": 84,
   "metadata": {
    "collapsed": false
   },
   "outputs": [
    {
     "name": "stdout",
     "output_type": "stream",
     "text": [
      " -1.31503084528e-08* x^3 + 2.70370588266e-05* x^2 + -0.0141931317363* x^1 + 4.08930071197* x^0\n"
     ]
    },
    {
     "name": "stderr",
     "output_type": "stream",
     "text": [
      "//anaconda/lib/python3.6/site-packages/ipykernel/__main__.py:13: MatplotlibDeprecationWarning:\n",
      "\n",
      "axes.hold is deprecated.\n",
      "    See the API Changes document (http://matplotlib.org/api/api_changes.html)\n",
      "    for more details.\n",
      "\n"
     ]
    },
    {
     "data": {
      "image/png": "[encoded data removed]",
      "text/plain": [
       "<matplotlib.figure.Figure at 0x11a8543c8>"
      ]
     },
     "metadata": {},
     "output_type": "display_data"
    }
   ],
   "source": [
    "x = TIMSS['math'].as_matrix()\n",
    "y = (TIMSS['parental_education_n']).as_matrix()\n",
    "fig, ax = plt.subplots()\n",
    "deg = 3\n",
    "fit = np.polyfit(x, y, deg=deg)\n",
    "output_str = ' '\n",
    "for d in range(deg+1):\n",
    "    output_str += str(fit[d]) +'* x^'+str(deg-d) +' + '\n",
    "#print('%.3f' % fit[0]+' x +'+'%.2f' % fit[1])\n",
    "print(output_str[:-3])\n",
    "\n",
    "#ax.plot(x, fit[0] * x + fit[1], color='red')\n",
    "ax.hold(True)\n",
    "ax.scatter(x, y)\n",
    "ax.scatter(x, np.polyval(fit, x), color='red')\n",
    "\n",
    "plt.show()"
   ]
  },
  {
   "cell_type": "markdown",
   "metadata": {},
   "source": [
    "## 從上面可以看出高分的人群大部分集中在父母教育程度高的地方。"
   ]
  },
  {
   "cell_type": "code",
   "execution_count": null,
   "metadata": {
    "collapsed": true
   },
   "outputs": [],
   "source": []
  },
  {
   "cell_type": "code",
   "execution_count": 6,
   "metadata": {
    "collapsed": false
   },
   "outputs": [
    {
     "name": "stdout",
     "output_type": "stream",
     "text": [
      "   partner_status  conformity fcategory  fscore\n",
      "0             low           8       low      37\n",
      "1             low           4      high      57\n",
      "2             low           8      high      65\n",
      "3             low           7       low      20\n",
      "4             low          10       low      36\n",
      "5             low           6       low      18\n",
      "6             low          12    medium      51\n",
      "7             low           4    medium      44\n",
      "8             low          13       low      31\n",
      "9             low          12       low      36\n",
      "10            low           4    medium      42\n",
      "11            low          13      high      56\n",
      "12            low           7       low      28\n",
      "13            low           9    medium      43\n",
      "14            low           9      high      65\n",
      "15            low          24      high      57\n",
      "16            low           6       low      28\n",
      "17            low           7      high      61\n",
      "18            low          23      high      57\n",
      "19            low          13      high      55\n",
      "20            low           8       low      17\n",
      "21            low          12       low      35\n",
      "22           high          19      high      68\n",
      "23           high          12    medium      41\n",
      "24           high          21       low      16\n",
      "25           high           9      high      63\n",
      "26           high          23       low      15\n",
      "27           high           7      high      54\n",
      "28           high          17    medium      48\n",
      "29           high          14    medium      42\n",
      "30           high          11      high      59\n",
      "31           high          16    medium      45\n",
      "32           high          15       low      30\n",
      "33           high          20    medium      44\n",
      "34           high           8    medium      42\n",
      "35           high          12       low      22\n",
      "36           high          14      high      52\n",
      "37           high          14    medium      42\n",
      "38           high          17    medium      41\n",
      "39           high           7    medium      50\n",
      "40           high          17    medium      39\n",
      "41           high          13      high      57\n",
      "42           high          16       low      35\n",
      "43           high          10      high      52\n",
      "44           high          15    medium      44\n",
      "                                              sum_sq    df          F  \\\n",
      "C(fcategory, Sum)                          11.614700   2.0   0.276958   \n",
      "C(partner_status, Sum)                    212.213778   1.0  10.120692   \n",
      "C(fcategory, Sum):C(partner_status, Sum)  175.488928   2.0   4.184623   \n",
      "Residual                                  817.763961  39.0        NaN   \n",
      "\n",
      "                                            PR(>F)  \n",
      "C(fcategory, Sum)                         0.759564  \n",
      "C(partner_status, Sum)                    0.002874  \n",
      "C(fcategory, Sum):C(partner_status, Sum)  0.022572  \n",
      "Residual                                       NaN  \n"
     ]
    }
   ],
   "source": [
    "moore = sm.datasets.get_rdataset(\"Moore\", \"car\", cache=True)\n",
    "\n",
    "data = moore.data\n",
    "data = data.rename(columns={\"partner.status\" :\"partner_status\"})  # make name pythonic\n",
    "print(data)\n",
    "\n",
    "moore_lm = ols('conformity ~ C(fcategory, Sum)*C(partner_status, Sum)', data=data).fit()\n",
    "table = sm.stats.anova_lm(moore_lm, typ=2) # Type 2 ANOVA DataFrame\n",
    "\n",
    "print(table)"
   ]
  },
  {
   "cell_type": "code",
   "execution_count": 22,
   "metadata": {
    "collapsed": false
   },
   "outputs": [
    {
     "name": "stdout",
     "output_type": "stream",
     "text": [
      "                                                         sum_sq      df  \\\n",
      "C(parental_education_n, Sum)                       5.292236e+06     4.0   \n",
      "C(math_hours_n, Sum)                               8.131486e+05     2.0   \n",
      "C(parental_education_n, Sum):C(math_hours_n, Sum)  1.083028e+05     8.0   \n",
      "Residual                                           3.882713e+07  4452.0   \n",
      "\n",
      "                                                            F         PR(>F)  \n",
      "C(parental_education_n, Sum)                       151.704734  7.916980e-122  \n",
      "C(math_hours_n, Sum)                                46.618665   9.180433e-21  \n",
      "C(parental_education_n, Sum):C(math_hours_n, Sum)    1.552278   1.338551e-01  \n",
      "Residual                                                  NaN            NaN  \n"
     ]
    }
   ],
   "source": [
    "try_T = TIMSS[['math', 'parental_education_n', 'math_hours_n']]\n",
    "moore_lm = ols('math ~ C(parental_education_n, Sum)*C(math_hours_n, Sum)', data=try_T).fit()\n",
    "table = sm.stats.anova_lm(moore_lm, typ=2) # Type 2 ANOVA DataFrame\n",
    "print(table)"
   ]
  },
  {
   "cell_type": "markdown",
   "metadata": {},
   "source": [
    "## 可見parental_education_n的F十分大，PR(>F)遠小於0.05 --> 組間差異很大\n",
    "## 同樣，math_hours的組間差異也很大"
   ]
  },
  {
   "cell_type": "code",
   "execution_count": null,
   "metadata": {
    "collapsed": true
   },
   "outputs": [],
   "source": []
  }
 ],
 "metadata": {
  "kernelspec": {
   "display_name": "Python 3",
   "language": "python",
   "name": "python3"
  },
  "language_info": {
   "codemirror_mode": {
    "name": "ipython",
    "version": 3
   },
   "file_extension": ".py",
   "mimetype": "text/x-python",
   "name": "python",
   "nbconvert_exporter": "python",
   "pygments_lexer": "ipython3",
   "version": "3.6.0"
  }
 },
 "nbformat": 4,
 "nbformat_minor": 2
}
