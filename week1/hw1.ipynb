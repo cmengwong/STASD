{
 "cells": [
  {
   "cell_type": "markdown",
   "metadata": {},
   "source": [
    "# Data analysis"
   ]
  },
  {
   "cell_type": "code",
   "execution_count": 1,
   "metadata": {
    "collapsed": true
   },
   "outputs": [],
   "source": [
    "import pandas as pd\n",
    "import numpy as np\n",
    "import matplotlib.pyplot as plt\n",
    "import matplotlib\n",
    "\n",
    "zhfont1 = matplotlib.font_manager.FontProperties(fname='/Library/Fonts/Microsoft/mingliu_hkscs.ttf')"
   ]
  },
  {
   "cell_type": "code",
   "execution_count": 2,
   "metadata": {
    "collapsed": true
   },
   "outputs": [],
   "source": [
    "df = pd.read_csv('Ntu_Orders.csv')"
   ]
  },
  {
   "cell_type": "code",
   "execution_count": 3,
   "metadata": {
    "collapsed": false
   },
   "outputs": [
    {
     "name": "stdout",
     "output_type": "stream",
     "text": [
      "Index(['SalesOrderSlaveId', 'DateId', 'MemberId', 'TradesOrderSlaveId',\n",
      "       'ShopId', 'SalePageId', 'TradesOrderGroupCode', 'TrackSourceTypeDef',\n",
      "       'TrackChannelTypeDef', 'TrackDeviceTypeDef', 'LevelOneCategoryName',\n",
      "       'LevelTwoCategoryName', 'LevelThreeCategoryName',\n",
      "       'LevelFourCategoryName', 'IsMajor', 'IsGift', 'Quantity', 'UnitPrice',\n",
      "       'PromotionDiscount', 'EcouponDiscount', 'SalesOrderSlaveTotalPayment',\n",
      "       'SalesOrderSlaveDateTime', 'SalesOrderSlaveStatusDef',\n",
      "       'PayProfileTypeDef', 'ShippingProfileTypeDef', 'EcouponId',\n",
      "       'IsSalePageGift'],\n",
      "      dtype='object')\n"
     ]
    }
   ],
   "source": [
    "columns = df.columns\n",
    "print(columns)"
   ]
  },
  {
   "cell_type": "code",
   "execution_count": 4,
   "metadata": {
    "collapsed": false
   },
   "outputs": [
    {
     "data": {
      "text/plain": [
       "'2017-01-03 23:11:47.207'"
      ]
     },
     "execution_count": 4,
     "metadata": {},
     "output_type": "execute_result"
    }
   ],
   "source": [
    "df['SalesOrderSlaveDateTime'][0]"
   ]
  },
  {
   "cell_type": "code",
   "execution_count": 5,
   "metadata": {
    "collapsed": true
   },
   "outputs": [],
   "source": [
    "df['new_DateId'] = pd.to_datetime(df['DateId'].astype(str), format='%Y%m%d')"
   ]
  },
  {
   "cell_type": "code",
   "execution_count": 6,
   "metadata": {
    "collapsed": false
   },
   "outputs": [],
   "source": [
    "df['Month'] = df.new_DateId.astype(str).apply(lambda x: x[:7])"
   ]
  },
  {
   "cell_type": "code",
   "execution_count": 7,
   "metadata": {
    "collapsed": false
   },
   "outputs": [],
   "source": [
    "#new_df = df.groupby(by=['Month', 'LevelOneCategoryName', 'LevelTwoCategoryName'])[['SalesOrderSlaveTotalPayment','Quantity']].sum()\n",
    "\n",
    "new_df = df.groupby(by=['Month', 'LevelTwoCategoryName'])[['SalesOrderSlaveTotalPayment','Quantity']].sum()"
   ]
  },
  {
   "cell_type": "code",
   "execution_count": 8,
   "metadata": {
    "collapsed": false
   },
   "outputs": [
    {
     "name": "stdout",
     "output_type": "stream",
     "text": [
      "Index(['SalesOrderSlaveTotalPayment', 'Quantity'], dtype='object')\n",
      "SalesOrderSlaveTotalPayment    154016.0\n",
      "Quantity                         1056.0\n",
      "Name: (2017-01, 內衣), dtype: float64\n",
      "SalesOrderSlaveTotalPayment    15372786.0\n",
      "Quantity                          63733.0\n",
      "Name: (2017-01, 女裝), dtype: float64\n",
      "SalesOrderSlaveTotalPayment    3222.0\n",
      "Quantity                        597.0\n",
      "Name: (2017-01, 指甲油、刷具、美材), dtype: float64\n",
      "SalesOrderSlaveTotalPayment    2530.0\n",
      "Quantity                         12.0\n",
      "Name: (2017-01, 收納), dtype: float64\n",
      "SalesOrderSlaveTotalPayment    11108.0\n",
      "Quantity                          36.0\n",
      "Name: (2017-01, 時尚女包), dtype: float64\n",
      "SalesOrderSlaveTotalPayment    179.0\n",
      "Quantity                         2.0\n",
      "Name: (2017-01, 智慧型手機配件), dtype: float64\n",
      "SalesOrderSlaveTotalPayment    2249.0\n",
      "Quantity                          7.0\n",
      "Name: (2017-01, 比基尼、泳裝、配件), dtype: float64\n",
      "SalesOrderSlaveTotalPayment    77707.0\n",
      "Quantity                         129.0\n",
      "Name: (2017-01, 流行女鞋), dtype: float64\n",
      "SalesOrderSlaveTotalPayment    118566.0\n",
      "Quantity                          718.0\n",
      "Name: (2017-01, 飾品、配件), dtype: float64\n",
      "SalesOrderSlaveTotalPayment    329224.0\n",
      "Quantity                         2466.0\n",
      "Name: (2017-02, 內衣), dtype: float64\n",
      "96\n"
     ]
    }
   ],
   "source": [
    "print(new_df.columns)\n",
    "for i in range(10):\n",
    "    print(new_df.iloc[i])\n",
    "print(len(new_df))\n"
   ]
  },
  {
   "cell_type": "code",
   "execution_count": 9,
   "metadata": {
    "collapsed": false
   },
   "outputs": [],
   "source": [
    "name_of_array = list()\n",
    "array_ = list()\n",
    "for i in range(len(new_df)):\n",
    "    ele = new_df.iloc[i]\n",
    "    if ele.name[1] not in name_of_array:\n",
    "        name_of_array.append(ele.name[1])\n",
    "        array_.append(np.zeros(12))\n",
    "    index = name_of_array.index(ele.name[1])\n",
    "    array_[index][int(ele.name[0][-2:])-1] = ele.SalesOrderSlaveTotalPayment\n",
    "    "
   ]
  },
  {
   "cell_type": "code",
   "execution_count": 10,
   "metadata": {
    "collapsed": false
   },
   "outputs": [
    {
     "name": "stdout",
     "output_type": "stream",
     "text": [
      "['內衣', '女裝', '指甲油、刷具、美材', '收納', '時尚女包', '智慧型手機配件', '比基尼、泳裝、配件', '流行女鞋', '飾品、配件']\n",
      "size of name_of_array is 9\n",
      "size of array_ is 9, 12\n"
     ]
    }
   ],
   "source": [
    "print(name_of_array)\n",
    "print(\"size of name_of_array is %d\" % len(name_of_array))\n",
    "print(\"size of array_ is %d, %d\" % (len(array_), array_[0].shape[0]))"
   ]
  },
  {
   "cell_type": "code",
   "execution_count": 11,
   "metadata": {
    "collapsed": false
   },
   "outputs": [
    {
     "data": {
      "image/png": "[encoded data removed]",
      "text/plain": [
       "<matplotlib.figure.Figure at 0x127f29c88>"
      ]
     },
     "metadata": {},
     "output_type": "display_data"
    }
   ],
   "source": [
    "plt.figure()\n",
    "for i in range(len(name_of_array)):\n",
    "    plt.plot(array_[i], label=name_of_array[i])\n",
    "plt.legend(prop=zhfont1)\n",
    "plt.show()"
   ]
  },
  {
   "cell_type": "code",
   "execution_count": null,
   "metadata": {
    "collapsed": true
   },
   "outputs": [],
   "source": []
  }
 ],
 "metadata": {
  "kernelspec": {
   "display_name": "Python 3",
   "language": "python",
   "name": "python3"
  },
  "language_info": {
   "codemirror_mode": {
    "name": "ipython",
    "version": 3
   },
   "file_extension": ".py",
   "mimetype": "text/x-python",
   "name": "python",
   "nbconvert_exporter": "python",
   "pygments_lexer": "ipython3",
   "version": "3.6.0"
  }
 },
 "nbformat": 4,
 "nbformat_minor": 2
}
